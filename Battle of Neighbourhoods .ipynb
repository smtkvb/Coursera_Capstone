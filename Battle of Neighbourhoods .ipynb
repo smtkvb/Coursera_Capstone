{
    "nbformat_minor": 1, 
    "cells": [
        {
            "source": "# New youga class in Toronto", 
            "cell_type": "markdown", 
            "metadata": {
                "collapsed": true
            }
        }, 
        {
            "source": "### Introduction", 
            "cell_type": "markdown", 
            "metadata": {}
        }, 
        {
            "source": "From [here](https://www.thegoodbody.com/yoga-statistics/) we can find out that Yoga has grown massively in popularity over the past few years, with passionate yogis stretching around the world. The facts show that it has many health benefits, particularly for those suffering from back pain, and with the spend on yoga products growing annually the trend shows no sign of slowing down.\nAlso yoga market has massive annual spends Worldwide each year. \nSo it's interesting trend and we can participate in it.", 
            "cell_type": "markdown", 
            "metadata": {}
        }, 
        {
            "source": "### Task", 
            "cell_type": "markdown", 
            "metadata": {}
        }, 
        {
            "source": "Need to find a good place for creating new yoga class in Toronto. Based on different open data source we should find on which attributes of Neighbourhoods have more influence on yoga studios and where is the best place for it, depending of base surroundings.", 
            "cell_type": "markdown", 
            "metadata": {}
        }, 
        {
            "source": "### How data sould be used", 
            "cell_type": "markdown", 
            "metadata": {}
        }, 
        {
            "source": "1. As it is told here https://www.thegoodbody.com/yoga-statistics/ yoga is popular for certain segments of the population. We should try to get this statistics from Neighbourhood Profiles 2016 from (www.toronto.ca), get data about yoga studios from Capsone and confirm or deny statistical data from thegoodbody.com.\n2. We also should find best neighbours for yoga studios from Foursquare \n3. After 1 and 2 we can merge data from goverment statistics (from www.toronto.ca) and best neighbours of yoga studios from Foursquare and find the places where new studio should be.\n4. Find out existance of yoga studios in that Neighbourhood and define can we place another one or not", 
            "cell_type": "markdown", 
            "metadata": {}
        }, 
        {
            "source": "#### Data sources", 
            "cell_type": "markdown", 
            "metadata": {}
        }, 
        {
            "source": "1. Neighbourhood Profiles 2016 (CSV) https://www.toronto.ca/city-government/data-research-maps/open-data/open-data-catalogue/locations-and-mapping/#8c732154-5012-9afe-d0cd-ba3ffc813d5a\n2. Foursquare.com\n", 
            "cell_type": "markdown", 
            "metadata": {}
        }
    ], 
    "metadata": {
        "kernelspec": {
            "display_name": "Python 3.6", 
            "name": "python3", 
            "language": "python"
        }, 
        "language_info": {
            "mimetype": "text/x-python", 
            "nbconvert_exporter": "python", 
            "version": "3.6.8", 
            "name": "python", 
            "file_extension": ".py", 
            "pygments_lexer": "ipython3", 
            "codemirror_mode": {
                "version": 3, 
                "name": "ipython"
            }
        }
    }, 
    "nbformat": 4
}